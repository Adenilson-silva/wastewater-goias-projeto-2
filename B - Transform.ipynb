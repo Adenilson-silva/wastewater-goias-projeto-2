{
 "cells": [
  {
   "cell_type": "markdown",
   "id": "21d0e519",
   "metadata": {},
   "source": [
    "## Uso de dados para otimizar a alocação de recursos destinados ao saneamento básico de Goiás"
   ]
  },
  {
   "cell_type": "markdown",
   "id": "211c5907",
   "metadata": {},
   "source": [
    "### ADENILSON SILVA"
   ]
  },
  {
   "cell_type": "markdown",
   "id": "ad2446a5",
   "metadata": {},
   "source": [
    "Para controle do fluxo de atividades do projeto, a consultoria utilizou o trello. O painel criado está disponível em:"
   ]
  },
  {
   "cell_type": "markdown",
   "id": "2ef420ca",
   "metadata": {},
   "source": [
    "# TRANSFORMAÇÃO DOS DADOS"
   ]
  },
  {
   "cell_type": "markdown",
   "id": "98a2062d",
   "metadata": {},
   "source": [
    "A seguir, é apresentado o código utilizado pela consultoria para o tratamento dos dados do projeto."
   ]
  },
  {
   "cell_type": "markdown",
   "id": "0e50fa89",
   "metadata": {},
   "source": [
    "####  1 - Importando bibliotecas"
   ]
  },
  {
   "cell_type": "code",
   "execution_count": 1,
   "id": "5d1cbfdc",
   "metadata": {},
   "outputs": [],
   "source": [
    "import pandas as pd  # Usada para trabalhar com dados em formato de tabela (DataFrame)\n",
    "import os  # Usada para lidar com operações do sistema de arquivos\n",
    "import matplotlib.pyplot as plt # Usada para criar e personalizar gráficos"
   ]
  },
  {
   "cell_type": "markdown",
   "id": "da3dd7ed",
   "metadata": {},
   "source": [
    "#### 2 -  Obtendo todos os dados brutos\n"
   ]
  },
  {
   "cell_type": "code",
   "execution_count": 2,
   "id": "043ca489",
   "metadata": {},
   "outputs": [
    {
     "data": {
      "text/html": [
       "<div>\n",
       "<style scoped>\n",
       "    .dataframe tbody tr th:only-of-type {\n",
       "        vertical-align: middle;\n",
       "    }\n",
       "\n",
       "    .dataframe tbody tr th {\n",
       "        vertical-align: top;\n",
       "    }\n",
       "\n",
       "    .dataframe thead th {\n",
       "        text-align: right;\n",
       "    }\n",
       "</style>\n",
       "<table border=\"1\" class=\"dataframe\">\n",
       "  <thead>\n",
       "    <tr style=\"text-align: right;\">\n",
       "      <th></th>\n",
       "      <th>Unnamed: 0</th>\n",
       "      <th>Código do Município</th>\n",
       "      <th>Município</th>\n",
       "      <th>Estado</th>\n",
       "      <th>Ano de Referência</th>\n",
       "      <th>Código do Prestador</th>\n",
       "      <th>Prestador</th>\n",
       "      <th>Sigla do Prestador</th>\n",
       "      <th>Abrangência</th>\n",
       "      <th>Tipo de serviço</th>\n",
       "      <th>Natureza jurídica</th>\n",
       "      <th>ES005 - Volume de esgotos coletado</th>\n",
       "      <th>ES006 - Volume de esgotos tratado</th>\n",
       "    </tr>\n",
       "  </thead>\n",
       "  <tbody>\n",
       "    <tr>\n",
       "      <th>0</th>\n",
       "      <td>1</td>\n",
       "      <td>520005</td>\n",
       "      <td>Abadia de Goiás</td>\n",
       "      <td>GO</td>\n",
       "      <td>2022</td>\n",
       "      <td>52087000</td>\n",
       "      <td>Saneamento de Goiás S/A</td>\n",
       "      <td>SANEAGO</td>\n",
       "      <td>Regional</td>\n",
       "      <td>Água e Esgoto</td>\n",
       "      <td>Sociedade de economia mista com administração ...</td>\n",
       "      <td>125.40</td>\n",
       "      <td>125.40</td>\n",
       "    </tr>\n",
       "    <tr>\n",
       "      <th>1</th>\n",
       "      <td>2</td>\n",
       "      <td>520005</td>\n",
       "      <td>Abadia de Goiás</td>\n",
       "      <td>GO</td>\n",
       "      <td>2021</td>\n",
       "      <td>52087000</td>\n",
       "      <td>Saneamento de Goiás S/A</td>\n",
       "      <td>SANEAGO</td>\n",
       "      <td>Regional</td>\n",
       "      <td>Água e Esgoto</td>\n",
       "      <td>Sociedade de economia mista com administração ...</td>\n",
       "      <td>120.64</td>\n",
       "      <td>120.64</td>\n",
       "    </tr>\n",
       "    <tr>\n",
       "      <th>2</th>\n",
       "      <td>3</td>\n",
       "      <td>520005</td>\n",
       "      <td>Abadia de Goiás</td>\n",
       "      <td>GO</td>\n",
       "      <td>2020</td>\n",
       "      <td>52087000</td>\n",
       "      <td>Saneamento de Goiás S/A</td>\n",
       "      <td>SANEAGO</td>\n",
       "      <td>Regional</td>\n",
       "      <td>Água e Esgoto</td>\n",
       "      <td>Sociedade de economia mista com administração ...</td>\n",
       "      <td>116.50</td>\n",
       "      <td>116.50</td>\n",
       "    </tr>\n",
       "    <tr>\n",
       "      <th>3</th>\n",
       "      <td>4</td>\n",
       "      <td>520005</td>\n",
       "      <td>Abadia de Goiás</td>\n",
       "      <td>GO</td>\n",
       "      <td>2019</td>\n",
       "      <td>52087000</td>\n",
       "      <td>Saneamento de Goiás S/A</td>\n",
       "      <td>SANEAGO</td>\n",
       "      <td>Regional</td>\n",
       "      <td>Água e Esgoto</td>\n",
       "      <td>Sociedade de economia mista com administração ...</td>\n",
       "      <td>109.75</td>\n",
       "      <td>109.75</td>\n",
       "    </tr>\n",
       "    <tr>\n",
       "      <th>4</th>\n",
       "      <td>5</td>\n",
       "      <td>520005</td>\n",
       "      <td>Abadia de Goiás</td>\n",
       "      <td>GO</td>\n",
       "      <td>2018</td>\n",
       "      <td>52087000</td>\n",
       "      <td>Saneamento de Goiás S/A</td>\n",
       "      <td>SANEAGO</td>\n",
       "      <td>Regional</td>\n",
       "      <td>Água e Esgoto</td>\n",
       "      <td>Sociedade de economia mista com administração ...</td>\n",
       "      <td>104.43</td>\n",
       "      <td>104.43</td>\n",
       "    </tr>\n",
       "  </tbody>\n",
       "</table>\n",
       "</div>"
      ],
      "text/plain": [
       "   Unnamed: 0  Código do Município        Município Estado  Ano de Referência  \\\n",
       "0           1               520005  Abadia de Goiás     GO               2022   \n",
       "1           2               520005  Abadia de Goiás     GO               2021   \n",
       "2           3               520005  Abadia de Goiás     GO               2020   \n",
       "3           4               520005  Abadia de Goiás     GO               2019   \n",
       "4           5               520005  Abadia de Goiás     GO               2018   \n",
       "\n",
       "   Código do Prestador                Prestador Sigla do Prestador  \\\n",
       "0             52087000  Saneamento de Goiás S/A            SANEAGO   \n",
       "1             52087000  Saneamento de Goiás S/A            SANEAGO   \n",
       "2             52087000  Saneamento de Goiás S/A            SANEAGO   \n",
       "3             52087000  Saneamento de Goiás S/A            SANEAGO   \n",
       "4             52087000  Saneamento de Goiás S/A            SANEAGO   \n",
       "\n",
       "  Abrangência Tipo de serviço  \\\n",
       "0    Regional   Água e Esgoto   \n",
       "1    Regional   Água e Esgoto   \n",
       "2    Regional   Água e Esgoto   \n",
       "3    Regional   Água e Esgoto   \n",
       "4    Regional   Água e Esgoto   \n",
       "\n",
       "                                   Natureza jurídica  \\\n",
       "0  Sociedade de economia mista com administração ...   \n",
       "1  Sociedade de economia mista com administração ...   \n",
       "2  Sociedade de economia mista com administração ...   \n",
       "3  Sociedade de economia mista com administração ...   \n",
       "4  Sociedade de economia mista com administração ...   \n",
       "\n",
       "   ES005 - Volume de esgotos coletado  ES006 - Volume de esgotos tratado  \n",
       "0                              125.40                             125.40  \n",
       "1                              120.64                             120.64  \n",
       "2                              116.50                             116.50  \n",
       "3                              109.75                             109.75  \n",
       "4                              104.43                             104.43  "
      ]
     },
     "execution_count": 2,
     "metadata": {},
     "output_type": "execute_result"
    }
   ],
   "source": [
    "# Gerando o Dataframe com a série histórica da coleta e tratamento de esgotos dos municipios de Goiás\n",
    "df_municipios_saneamento = pd.read_csv('dados_GO/A - dado_bruto/df_municipios_saneamento.csv', \n",
    "                                       delimiter = ';',\n",
    "                                       encoding = 'utf-8',\n",
    "                                       index_col= False)\n",
    "\n",
    "# Visualizando os primeiros 5 registros do Dataframe \"df_municipios_saneamento\"\n",
    "df_municipios_saneamento.head()"
   ]
  },
  {
   "cell_type": "code",
   "execution_count": 3,
   "id": "4f67cf65",
   "metadata": {},
   "outputs": [
    {
     "data": {
      "text/plain": [
       "(1557, 13)"
      ]
     },
     "execution_count": 3,
     "metadata": {},
     "output_type": "execute_result"
    }
   ],
   "source": [
    "# Visualizando quantidade de linhas e colunas do Dataframe \"df_municipios_saneamento\"\n",
    "df_municipios_saneamento.shape"
   ]
  },
  {
   "cell_type": "code",
   "execution_count": 4,
   "id": "c4cea5ca",
   "metadata": {},
   "outputs": [
    {
     "name": "stdout",
     "output_type": "stream",
     "text": [
      "<class 'pandas.core.frame.DataFrame'>\n",
      "RangeIndex: 1557 entries, 0 to 1556\n",
      "Data columns (total 13 columns):\n",
      " #   Column                              Non-Null Count  Dtype  \n",
      "---  ------                              --------------  -----  \n",
      " 0   Unnamed: 0                          1557 non-null   int64  \n",
      " 1   Código do Município                 1557 non-null   int64  \n",
      " 2   Município                           1557 non-null   object \n",
      " 3   Estado                              1557 non-null   object \n",
      " 4   Ano de Referência                   1557 non-null   int64  \n",
      " 5   Código do Prestador                 1557 non-null   int64  \n",
      " 6   Prestador                           1557 non-null   object \n",
      " 7   Sigla do Prestador                  1557 non-null   object \n",
      " 8   Abrangência                         1557 non-null   object \n",
      " 9   Tipo de serviço                     1557 non-null   object \n",
      " 10  Natureza jurídica                   1557 non-null   object \n",
      " 11  ES005 - Volume de esgotos coletado  1472 non-null   float64\n",
      " 12  ES006 - Volume de esgotos tratado   1460 non-null   float64\n",
      "dtypes: float64(2), int64(4), object(7)\n",
      "memory usage: 158.3+ KB\n"
     ]
    }
   ],
   "source": [
    "# Visualizando as informações sobre o Dataframe \"df_municipios_saneamento\"\n",
    "df_municipios_saneamento.info()"
   ]
  },
  {
   "cell_type": "code",
   "execution_count": 5,
   "id": "03771949",
   "metadata": {},
   "outputs": [
    {
     "data": {
      "text/plain": [
       "Unnamed: 0                             0\n",
       "Código do Município                    0\n",
       "Município                              0\n",
       "Estado                                 0\n",
       "Ano de Referência                      0\n",
       "Código do Prestador                    0\n",
       "Prestador                              0\n",
       "Sigla do Prestador                     0\n",
       "Abrangência                            0\n",
       "Tipo de serviço                        0\n",
       "Natureza jurídica                      0\n",
       "ES005 - Volume de esgotos coletado    85\n",
       "ES006 - Volume de esgotos tratado     97\n",
       "dtype: int64"
      ]
     },
     "execution_count": 5,
     "metadata": {},
     "output_type": "execute_result"
    }
   ],
   "source": [
    "# Verificando quantidade de campos nulos\n",
    "df_municipios_saneamento.isnull().sum()"
   ]
  },
  {
   "cell_type": "code",
   "execution_count": 25,
   "id": "59cf6807",
   "metadata": {},
   "outputs": [
    {
     "name": "stdout",
     "output_type": "stream",
     "text": [
      "Quantidade de registros duplicados: 0\n"
     ]
    }
   ],
   "source": [
    "# Visualizando a quantidade de registros duplicados no Dataframe \"df_municipios_saneamento\"\n",
    "quantidade_duplicadas_mun = df_municipios_saneamento[['Município', 'Ano de Referência']].duplicated().sum()\n",
    "print(f'Quantidade de registros duplicados: {quantidade_duplicadas_mun}')"
   ]
  },
  {
   "cell_type": "code",
   "execution_count": 7,
   "id": "e227a385",
   "metadata": {},
   "outputs": [
    {
     "data": {
      "text/html": [
       "<div>\n",
       "<style scoped>\n",
       "    .dataframe tbody tr th:only-of-type {\n",
       "        vertical-align: middle;\n",
       "    }\n",
       "\n",
       "    .dataframe tbody tr th {\n",
       "        vertical-align: top;\n",
       "    }\n",
       "\n",
       "    .dataframe thead th {\n",
       "        text-align: right;\n",
       "    }\n",
       "</style>\n",
       "<table border=\"1\" class=\"dataframe\">\n",
       "  <thead>\n",
       "    <tr style=\"text-align: right;\">\n",
       "      <th></th>\n",
       "      <th>Unnamed: 0</th>\n",
       "      <th>Código do Município</th>\n",
       "      <th>Município</th>\n",
       "      <th>Estado</th>\n",
       "      <th>Ano de Referência</th>\n",
       "      <th>Código do Prestador</th>\n",
       "      <th>Prestador</th>\n",
       "      <th>Sigla do Prestador</th>\n",
       "      <th>Abrangência</th>\n",
       "      <th>Tipo de serviço</th>\n",
       "      <th>Natureza jurídica</th>\n",
       "      <th>ES005 - Volume de esgotos coletado</th>\n",
       "      <th>ES006 - Volume de esgotos tratado</th>\n",
       "    </tr>\n",
       "  </thead>\n",
       "  <tbody>\n",
       "    <tr>\n",
       "      <th>263</th>\n",
       "      <td>264</td>\n",
       "      <td>520390</td>\n",
       "      <td>Buriti Alegre</td>\n",
       "      <td>GO</td>\n",
       "      <td>2022</td>\n",
       "      <td>52087000</td>\n",
       "      <td>Saneamento de Goiás S/A</td>\n",
       "      <td>SANEAGO</td>\n",
       "      <td>Regional</td>\n",
       "      <td>Água e Esgoto</td>\n",
       "      <td>Sociedade de economia mista com administração ...</td>\n",
       "      <td>19.62</td>\n",
       "      <td>0.0</td>\n",
       "    </tr>\n",
       "    <tr>\n",
       "      <th>264</th>\n",
       "      <td>265</td>\n",
       "      <td>520390</td>\n",
       "      <td>Buriti Alegre</td>\n",
       "      <td>GO</td>\n",
       "      <td>2022</td>\n",
       "      <td>52039011</td>\n",
       "      <td>BURITI ALEGRE AMBIENTAL SPE -S/A</td>\n",
       "      <td>BAA</td>\n",
       "      <td>Local</td>\n",
       "      <td>Água e Esgoto</td>\n",
       "      <td>Empresa privada</td>\n",
       "      <td>59.07</td>\n",
       "      <td>0.0</td>\n",
       "    </tr>\n",
       "  </tbody>\n",
       "</table>\n",
       "</div>"
      ],
      "text/plain": [
       "     Unnamed: 0  Código do Município      Município Estado  Ano de Referência  \\\n",
       "263         264               520390  Buriti Alegre     GO               2022   \n",
       "264         265               520390  Buriti Alegre     GO               2022   \n",
       "\n",
       "     Código do Prestador                         Prestador Sigla do Prestador  \\\n",
       "263             52087000           Saneamento de Goiás S/A            SANEAGO   \n",
       "264             52039011  BURITI ALEGRE AMBIENTAL SPE -S/A                BAA   \n",
       "\n",
       "    Abrangência Tipo de serviço  \\\n",
       "263    Regional   Água e Esgoto   \n",
       "264       Local   Água e Esgoto   \n",
       "\n",
       "                                     Natureza jurídica  \\\n",
       "263  Sociedade de economia mista com administração ...   \n",
       "264                                    Empresa privada   \n",
       "\n",
       "     ES005 - Volume de esgotos coletado  ES006 - Volume de esgotos tratado  \n",
       "263                               19.62                                0.0  \n",
       "264                               59.07                                0.0  "
      ]
     },
     "execution_count": 7,
     "metadata": {},
     "output_type": "execute_result"
    }
   ],
   "source": [
    "mask =  df_municipios_saneamento[['Município', 'Ano de Referência']].duplicated(keep=False)\n",
    "df_municipios_saneamento[mask]"
   ]
  },
  {
   "cell_type": "markdown",
   "id": "be9697d5",
   "metadata": {},
   "source": [
    "Observação: Durante a fase de processamento e tratamento dos dados do primeiro conjunto, a consultoria identificou que o Município de Buriti Alegre (520390) apresentava duas leituras distintas para o ano de 2022. Essa discrepância foi comunicada à Secretaria Estadual de Meio Ambiente, que, por sua vez, enviou um ofício à prefeitura solicitando esclarecimentos. Em resposta, a prefeitura explicou que não se tratava de um erro, mas que, naquele ano, duas empresas operaram no município — uma no primeiro semestre e a outra no segundo. Após esse esclarecimento, a consultoria decidiu manter ambos os registros, pois isso não comprometeria os objetivos do projeto."
   ]
  },
  {
   "cell_type": "code",
   "execution_count": 8,
   "id": "2ea48da0",
   "metadata": {},
   "outputs": [
    {
     "data": {
      "text/html": [
       "<div>\n",
       "<style scoped>\n",
       "    .dataframe tbody tr th:only-of-type {\n",
       "        vertical-align: middle;\n",
       "    }\n",
       "\n",
       "    .dataframe tbody tr th {\n",
       "        vertical-align: top;\n",
       "    }\n",
       "\n",
       "    .dataframe thead th {\n",
       "        text-align: right;\n",
       "    }\n",
       "</style>\n",
       "<table border=\"1\" class=\"dataframe\">\n",
       "  <thead>\n",
       "    <tr style=\"text-align: right;\">\n",
       "      <th></th>\n",
       "      <th>Municípios de Goiás</th>\n",
       "      <th>Códigos</th>\n",
       "    </tr>\n",
       "  </thead>\n",
       "  <tbody>\n",
       "    <tr>\n",
       "      <th>0</th>\n",
       "      <td>Abadia de Goiás</td>\n",
       "      <td>5200050</td>\n",
       "    </tr>\n",
       "    <tr>\n",
       "      <th>1</th>\n",
       "      <td>Abadiânia</td>\n",
       "      <td>5200100</td>\n",
       "    </tr>\n",
       "    <tr>\n",
       "      <th>2</th>\n",
       "      <td>Acreúna</td>\n",
       "      <td>5200134</td>\n",
       "    </tr>\n",
       "    <tr>\n",
       "      <th>3</th>\n",
       "      <td>Adelândia</td>\n",
       "      <td>5200159</td>\n",
       "    </tr>\n",
       "    <tr>\n",
       "      <th>4</th>\n",
       "      <td>Água Fria de Goiás</td>\n",
       "      <td>5200175</td>\n",
       "    </tr>\n",
       "  </tbody>\n",
       "</table>\n",
       "</div>"
      ],
      "text/plain": [
       "  Municípios de Goiás  Códigos\n",
       "0     Abadia de Goiás  5200050\n",
       "1           Abadiânia  5200100\n",
       "2             Acreúna  5200134\n",
       "3           Adelândia  5200159\n",
       "4  Água Fria de Goiás  5200175"
      ]
     },
     "execution_count": 8,
     "metadata": {},
     "output_type": "execute_result"
    }
   ],
   "source": [
    "# Gerando o Dataframe com a listagem geral dos municípios de Goiás\n",
    "df_municipios_listagem = pd.read_csv('dados_GO/A - dado_bruto/df_municipios_listagem.csv', \n",
    "                                       delimiter = ';',\n",
    "                                       encoding = 'utf-8',\n",
    "                                       index_col= False)\n",
    "\n",
    "# Visualizando os primeiros 5 registros do Dataframe \"df_municipios_listagem\"\n",
    "df_municipios_listagem.head()"
   ]
  },
  {
   "cell_type": "code",
   "execution_count": 9,
   "id": "a58a39c1",
   "metadata": {},
   "outputs": [
    {
     "data": {
      "text/plain": [
       "(246, 2)"
      ]
     },
     "execution_count": 9,
     "metadata": {},
     "output_type": "execute_result"
    }
   ],
   "source": [
    "# Visualizando quantidade de linhas e colunas do Dataframe \"df_municipios_listagem\"\n",
    "df_municipios_listagem.shape"
   ]
  },
  {
   "cell_type": "code",
   "execution_count": 10,
   "id": "6f674778",
   "metadata": {},
   "outputs": [
    {
     "name": "stdout",
     "output_type": "stream",
     "text": [
      "<class 'pandas.core.frame.DataFrame'>\n",
      "RangeIndex: 246 entries, 0 to 245\n",
      "Data columns (total 2 columns):\n",
      " #   Column               Non-Null Count  Dtype \n",
      "---  ------               --------------  ----- \n",
      " 0   Municípios de Goiás  246 non-null    object\n",
      " 1   Códigos              246 non-null    int64 \n",
      "dtypes: int64(1), object(1)\n",
      "memory usage: 4.0+ KB\n"
     ]
    }
   ],
   "source": [
    "# Visualizando as informações sobre o Dataframe \"df_municipios_listagem\"\n",
    "df_municipios_listagem.info()"
   ]
  },
  {
   "cell_type": "code",
   "execution_count": 11,
   "id": "9250e19e",
   "metadata": {},
   "outputs": [
    {
     "name": "stdout",
     "output_type": "stream",
     "text": [
      "Quantidade de registros duplicados: 0\n"
     ]
    }
   ],
   "source": [
    "# Visualizando a quantidade de registros duplicados no Dataframe \"df_municipios_listagem\"\n",
    "quantidade_duplicadas = df_municipios_listagem.duplicated().sum()\n",
    "print(f'Quantidade de registros duplicados: {quantidade_duplicadas}')"
   ]
  },
  {
   "cell_type": "code",
   "execution_count": 12,
   "id": "7957dbe1",
   "metadata": {},
   "outputs": [
    {
     "data": {
      "text/html": [
       "<div>\n",
       "<style scoped>\n",
       "    .dataframe tbody tr th:only-of-type {\n",
       "        vertical-align: middle;\n",
       "    }\n",
       "\n",
       "    .dataframe tbody tr th {\n",
       "        vertical-align: top;\n",
       "    }\n",
       "\n",
       "    .dataframe thead th {\n",
       "        text-align: right;\n",
       "    }\n",
       "</style>\n",
       "<table border=\"1\" class=\"dataframe\">\n",
       "  <thead>\n",
       "    <tr style=\"text-align: right;\">\n",
       "      <th></th>\n",
       "      <th>MUNICÍPIO</th>\n",
       "      <th>1992</th>\n",
       "      <th>1993</th>\n",
       "      <th>1994</th>\n",
       "      <th>1995</th>\n",
       "      <th>1997</th>\n",
       "      <th>1998</th>\n",
       "      <th>1999</th>\n",
       "      <th>2001</th>\n",
       "      <th>2002</th>\n",
       "      <th>...</th>\n",
       "      <th>2013</th>\n",
       "      <th>2014</th>\n",
       "      <th>2015</th>\n",
       "      <th>2016</th>\n",
       "      <th>2017</th>\n",
       "      <th>2018</th>\n",
       "      <th>2019</th>\n",
       "      <th>2020</th>\n",
       "      <th>2021</th>\n",
       "      <th>2022</th>\n",
       "    </tr>\n",
       "  </thead>\n",
       "  <tbody>\n",
       "    <tr>\n",
       "      <th>0</th>\n",
       "      <td>Abadia de Goiás</td>\n",
       "      <td>-</td>\n",
       "      <td>-</td>\n",
       "      <td>-</td>\n",
       "      <td>-</td>\n",
       "      <td>3.457</td>\n",
       "      <td>3.553</td>\n",
       "      <td>3.647</td>\n",
       "      <td>5.230</td>\n",
       "      <td>5.415</td>\n",
       "      <td>...</td>\n",
       "      <td>7.567</td>\n",
       "      <td>7.733</td>\n",
       "      <td>7.895</td>\n",
       "      <td>8.053</td>\n",
       "      <td>8.207</td>\n",
       "      <td>8.583</td>\n",
       "      <td>8.773</td>\n",
       "      <td>8.958</td>\n",
       "      <td>9.158</td>\n",
       "      <td>19.141</td>\n",
       "    </tr>\n",
       "    <tr>\n",
       "      <th>1</th>\n",
       "      <td>Abadiânia</td>\n",
       "      <td>9.443</td>\n",
       "      <td>9.439</td>\n",
       "      <td>9.455</td>\n",
       "      <td>9.472</td>\n",
       "      <td>10.299</td>\n",
       "      <td>10.431</td>\n",
       "      <td>10.562</td>\n",
       "      <td>11.666</td>\n",
       "      <td>11.883</td>\n",
       "      <td>...</td>\n",
       "      <td>17.326</td>\n",
       "      <td>17.701</td>\n",
       "      <td>18.069</td>\n",
       "      <td>18.427</td>\n",
       "      <td>18.775</td>\n",
       "      <td>19.614</td>\n",
       "      <td>20.042</td>\n",
       "      <td>20.461</td>\n",
       "      <td>20.873</td>\n",
       "      <td>15.498</td>\n",
       "    </tr>\n",
       "    <tr>\n",
       "      <th>2</th>\n",
       "      <td>Acreúna</td>\n",
       "      <td>14.521</td>\n",
       "      <td>14.961</td>\n",
       "      <td>15.370</td>\n",
       "      <td>15.770</td>\n",
       "      <td>15.559</td>\n",
       "      <td>15.752</td>\n",
       "      <td>15.945</td>\n",
       "      <td>18.792</td>\n",
       "      <td>19.194</td>\n",
       "      <td>...</td>\n",
       "      <td>21.366</td>\n",
       "      <td>21.549</td>\n",
       "      <td>21.730</td>\n",
       "      <td>21.905</td>\n",
       "      <td>22.076</td>\n",
       "      <td>22.182</td>\n",
       "      <td>22.366</td>\n",
       "      <td>22.546</td>\n",
       "      <td>22.710</td>\n",
       "      <td>20.506</td>\n",
       "    </tr>\n",
       "    <tr>\n",
       "      <th>3</th>\n",
       "      <td>Adelândia</td>\n",
       "      <td>2.337</td>\n",
       "      <td>2.348</td>\n",
       "      <td>2.352</td>\n",
       "      <td>2.356</td>\n",
       "      <td>2.772</td>\n",
       "      <td>2.882</td>\n",
       "      <td>2.990</td>\n",
       "      <td>2.501</td>\n",
       "      <td>2.485</td>\n",
       "      <td>...</td>\n",
       "      <td>2.550</td>\n",
       "      <td>2.554</td>\n",
       "      <td>2.557</td>\n",
       "      <td>2.561</td>\n",
       "      <td>2.564</td>\n",
       "      <td>2.517</td>\n",
       "      <td>2.516</td>\n",
       "      <td>2.516</td>\n",
       "      <td>2.515</td>\n",
       "      <td>2.393</td>\n",
       "    </tr>\n",
       "    <tr>\n",
       "      <th>4</th>\n",
       "      <td>Água Fria de Goiás</td>\n",
       "      <td>3.989</td>\n",
       "      <td>3.996</td>\n",
       "      <td>4.006</td>\n",
       "      <td>4.015</td>\n",
       "      <td>3.679</td>\n",
       "      <td>3.601</td>\n",
       "      <td>3.524</td>\n",
       "      <td>4.527</td>\n",
       "      <td>4.573</td>\n",
       "      <td>...</td>\n",
       "      <td>5.395</td>\n",
       "      <td>5.451</td>\n",
       "      <td>5.507</td>\n",
       "      <td>5.560</td>\n",
       "      <td>5.613</td>\n",
       "      <td>5.676</td>\n",
       "      <td>5.735</td>\n",
       "      <td>5.793</td>\n",
       "      <td>5.843</td>\n",
       "      <td>5.546</td>\n",
       "    </tr>\n",
       "  </tbody>\n",
       "</table>\n",
       "<p>5 rows × 28 columns</p>\n",
       "</div>"
      ],
      "text/plain": [
       "            MUNICÍPIO    1992    1993    1994    1995    1997    1998    1999  \\\n",
       "0     Abadia de Goiás       -       -       -       -   3.457   3.553   3.647   \n",
       "1           Abadiânia   9.443   9.439   9.455   9.472  10.299  10.431  10.562   \n",
       "2             Acreúna  14.521  14.961  15.370  15.770  15.559  15.752  15.945   \n",
       "3           Adelândia   2.337   2.348   2.352   2.356   2.772   2.882   2.990   \n",
       "4  Água Fria de Goiás   3.989   3.996   4.006   4.015   3.679   3.601   3.524   \n",
       "\n",
       "     2001    2002  ...    2013    2014    2015    2016    2017    2018  \\\n",
       "0   5.230   5.415  ...   7.567   7.733   7.895   8.053   8.207   8.583   \n",
       "1  11.666  11.883  ...  17.326  17.701  18.069  18.427  18.775  19.614   \n",
       "2  18.792  19.194  ...  21.366  21.549  21.730  21.905  22.076  22.182   \n",
       "3   2.501   2.485  ...   2.550   2.554   2.557   2.561   2.564   2.517   \n",
       "4   4.527   4.573  ...   5.395   5.451   5.507   5.560   5.613   5.676   \n",
       "\n",
       "     2019    2020    2021    2022  \n",
       "0   8.773   8.958   9.158  19.141  \n",
       "1  20.042  20.461  20.873  15.498  \n",
       "2  22.366  22.546  22.710  20.506  \n",
       "3   2.516   2.516   2.515   2.393  \n",
       "4   5.735   5.793   5.843   5.546  \n",
       "\n",
       "[5 rows x 28 columns]"
      ]
     },
     "execution_count": 12,
     "metadata": {},
     "output_type": "execute_result"
    }
   ],
   "source": [
    "# Gerando o Dataframe com a série histórica do número de habitantes dos municipios de Goiás\n",
    "df_municipios_habitantes = pd.read_csv('dados_GO/A - dado_bruto/municipios_habitantes_imb.csv', \n",
    "                                       delimiter = ';',\n",
    "                                       encoding = 'utf-8',\n",
    "                                       index_col= False)\n",
    "\n",
    "# Visualizando os primeiros 5 registros do Dataframe \"df_municipios_habitantes\"\n",
    "df_municipios_habitantes.head()"
   ]
  },
  {
   "cell_type": "code",
   "execution_count": 13,
   "id": "cea971ce",
   "metadata": {},
   "outputs": [
    {
     "data": {
      "text/plain": [
       "(246, 28)"
      ]
     },
     "execution_count": 13,
     "metadata": {},
     "output_type": "execute_result"
    }
   ],
   "source": [
    "# Visualizando quantidade de linhas e colunas do Dataframe \"df_municipios_listagem\"\n",
    "df_municipios_habitantes.shape"
   ]
  },
  {
   "cell_type": "code",
   "execution_count": 14,
   "id": "4574c4f7",
   "metadata": {},
   "outputs": [
    {
     "name": "stdout",
     "output_type": "stream",
     "text": [
      "<class 'pandas.core.frame.DataFrame'>\n",
      "RangeIndex: 246 entries, 0 to 245\n",
      "Data columns (total 28 columns):\n",
      " #   Column     Non-Null Count  Dtype \n",
      "---  ------     --------------  ----- \n",
      " 0   MUNICÍPIO  246 non-null    object\n",
      " 1   1992       246 non-null    object\n",
      " 2   1993       246 non-null    object\n",
      " 3   1994       246 non-null    object\n",
      " 4   1995       246 non-null    object\n",
      " 5   1997       246 non-null    object\n",
      " 6   1998       246 non-null    object\n",
      " 7   1999       246 non-null    object\n",
      " 8   2001       246 non-null    object\n",
      " 9   2002       246 non-null    object\n",
      " 10  2003       246 non-null    object\n",
      " 11  2004       246 non-null    object\n",
      " 12  2005       246 non-null    object\n",
      " 13  2006       246 non-null    object\n",
      " 14  2008       246 non-null    object\n",
      " 15  2009       246 non-null    object\n",
      " 16  2011       246 non-null    object\n",
      " 17  2012       246 non-null    object\n",
      " 18  2013       246 non-null    object\n",
      " 19  2014       246 non-null    object\n",
      " 20  2015       246 non-null    object\n",
      " 21  2016       246 non-null    object\n",
      " 22  2017       246 non-null    object\n",
      " 23  2018       246 non-null    object\n",
      " 24  2019       246 non-null    object\n",
      " 25  2020       246 non-null    object\n",
      " 26  2021       246 non-null    object\n",
      " 27  2022       246 non-null    object\n",
      "dtypes: object(28)\n",
      "memory usage: 53.9+ KB\n"
     ]
    }
   ],
   "source": [
    "# Visualizando as informações sobre o Dataframe \"df_municipios_habitantes\"\n",
    "df_municipios_habitantes.info()"
   ]
  },
  {
   "cell_type": "code",
   "execution_count": 15,
   "id": "92207d3d",
   "metadata": {},
   "outputs": [
    {
     "name": "stdout",
     "output_type": "stream",
     "text": [
      "Quantidade de registros duplicados: 0\n"
     ]
    }
   ],
   "source": [
    "# Visualizando a quantidade de registros duplicados no Dataframe \"df_municipios_habitantes\"\n",
    "quantidade_duplicadas = df_municipios_habitantes.duplicated().sum()\n",
    "print(f'Quantidade de registros duplicados: {quantidade_duplicadas}')"
   ]
  },
  {
   "cell_type": "markdown",
   "id": "52cc8d02",
   "metadata": {},
   "source": [
    "#### 3 - Tratamento do DataFrame \"df_municipios_saneamento\""
   ]
  },
  {
   "cell_type": "markdown",
   "id": "d5c398e7",
   "metadata": {},
   "source": [
    "Observação: Todos os valores nulos foram substituídos pelo valor 0. O valor 0 indica que naquele ano o munícipio não havia sido criado, ou que o munícipio não possuía sistema de coleta e/ou tratamento de esgotos"
   ]
  },
  {
   "cell_type": "code",
   "execution_count": 16,
   "id": "c618f275",
   "metadata": {},
   "outputs": [],
   "source": [
    "# Listando das colunas que serão mantidas no Dataframe \"df_municipios_saneamento\"\n",
    "colunas_df_municipios_saneamento = ['Município',\n",
    "                                   'Ano de Referência',\n",
    "                                   'ES005 - Volume de esgotos coletado',\n",
    "                                   'ES006 - Volume de esgotos tratado']\n",
    "\n",
    "# Prescrevendo o Dataframe \"df_municipios_saneamento\" apenas com as colunas especificadas\n",
    "df_municipios_saneamento = df_municipios_saneamento[colunas_df_municipios_saneamento]\n",
    "\n",
    "\n",
    "\n",
    "# Criando dicionário que mapeia os nomes das colunas originais para os novos nomes\n",
    "colunas_renomeadas_df_municipios_saneamento = {'ES005 - Volume de esgotos coletado' : \\\n",
    "                                                   'Volume de esgotos coletado - 1000 m³',\n",
    "                                               'ES006 - Volume de esgotos tratado' : \\\n",
    "                                                   'Volume de esgotos tratado - 1000 m³'}\n",
    "\n",
    "\n",
    "\n",
    "# Renomeando as colunas do DataFrame \"df_municipios_saneamento\" com base no dicionário\n",
    "df_municipios_saneamento = \\\n",
    "    df_municipios_saneamento.rename(columns=colunas_renomeadas_df_municipios_saneamento)\n",
    "\n",
    "\n",
    "\n",
    "# Preenchendo todos os valores nulos (NaN) no DataFrame \"df_municipios_saneamento\" com o valor 0.\n",
    "df_municipios_saneamento = df_municipios_saneamento.fillna(0)\n",
    "\n",
    "\n",
    "\n",
    "# Listando as colunas que serão convertidas para o tipo de dado float\n",
    "#colunas_float_df_municipios_saneamento =  ['Volume de esgotos coletado - 1000 m³',\n",
    " #                                          'Volume de esgotos tratado - 1000 m³']\n"
   ]
  },
  {
   "cell_type": "code",
   "execution_count": 18,
   "id": "afe58224",
   "metadata": {},
   "outputs": [],
   "source": [
    "# Agrupando e somando o registro duplicado\n",
    "df_municipios_saneamento = df_municipios_saneamento.groupby(['Município', 'Ano de Referência']).sum().reset_index()"
   ]
  },
  {
   "cell_type": "code",
   "execution_count": 19,
   "id": "395038c8",
   "metadata": {},
   "outputs": [
    {
     "data": {
      "text/html": [
       "<div>\n",
       "<style scoped>\n",
       "    .dataframe tbody tr th:only-of-type {\n",
       "        vertical-align: middle;\n",
       "    }\n",
       "\n",
       "    .dataframe tbody tr th {\n",
       "        vertical-align: top;\n",
       "    }\n",
       "\n",
       "    .dataframe thead th {\n",
       "        text-align: right;\n",
       "    }\n",
       "</style>\n",
       "<table border=\"1\" class=\"dataframe\">\n",
       "  <thead>\n",
       "    <tr style=\"text-align: right;\">\n",
       "      <th></th>\n",
       "      <th>Município</th>\n",
       "      <th>Ano de Referência</th>\n",
       "      <th>Volume de esgotos coletado - 1000 m³</th>\n",
       "      <th>Volume de esgotos tratado - 1000 m³</th>\n",
       "    </tr>\n",
       "  </thead>\n",
       "  <tbody>\n",
       "    <tr>\n",
       "      <th>0</th>\n",
       "      <td>Abadia de Goiás</td>\n",
       "      <td>2006</td>\n",
       "      <td>7.25</td>\n",
       "      <td>7.25</td>\n",
       "    </tr>\n",
       "    <tr>\n",
       "      <th>1</th>\n",
       "      <td>Abadia de Goiás</td>\n",
       "      <td>2007</td>\n",
       "      <td>29.52</td>\n",
       "      <td>29.52</td>\n",
       "    </tr>\n",
       "    <tr>\n",
       "      <th>2</th>\n",
       "      <td>Abadia de Goiás</td>\n",
       "      <td>2008</td>\n",
       "      <td>27.76</td>\n",
       "      <td>27.76</td>\n",
       "    </tr>\n",
       "    <tr>\n",
       "      <th>3</th>\n",
       "      <td>Abadia de Goiás</td>\n",
       "      <td>2009</td>\n",
       "      <td>50.44</td>\n",
       "      <td>50.44</td>\n",
       "    </tr>\n",
       "    <tr>\n",
       "      <th>4</th>\n",
       "      <td>Abadia de Goiás</td>\n",
       "      <td>2010</td>\n",
       "      <td>75.79</td>\n",
       "      <td>75.79</td>\n",
       "    </tr>\n",
       "  </tbody>\n",
       "</table>\n",
       "</div>"
      ],
      "text/plain": [
       "         Município  Ano de Referência  Volume de esgotos coletado - 1000 m³  \\\n",
       "0  Abadia de Goiás               2006                                  7.25   \n",
       "1  Abadia de Goiás               2007                                 29.52   \n",
       "2  Abadia de Goiás               2008                                 27.76   \n",
       "3  Abadia de Goiás               2009                                 50.44   \n",
       "4  Abadia de Goiás               2010                                 75.79   \n",
       "\n",
       "   Volume de esgotos tratado - 1000 m³  \n",
       "0                                 7.25  \n",
       "1                                29.52  \n",
       "2                                27.76  \n",
       "3                                50.44  \n",
       "4                                75.79  "
      ]
     },
     "execution_count": 19,
     "metadata": {},
     "output_type": "execute_result"
    }
   ],
   "source": [
    "# Visualizando os primeiros 5 registros do Dataframe \"df_municipios_saneamento\"\n",
    "df_municipios_saneamento.head()"
   ]
  },
  {
   "cell_type": "code",
   "execution_count": 20,
   "id": "f79dbdf7",
   "metadata": {},
   "outputs": [
    {
     "name": "stdout",
     "output_type": "stream",
     "text": [
      "<class 'pandas.core.frame.DataFrame'>\n",
      "RangeIndex: 1556 entries, 0 to 1555\n",
      "Data columns (total 4 columns):\n",
      " #   Column                                Non-Null Count  Dtype  \n",
      "---  ------                                --------------  -----  \n",
      " 0   Município                             1556 non-null   object \n",
      " 1   Ano de Referência                     1556 non-null   int64  \n",
      " 2   Volume de esgotos coletado - 1000 m³  1556 non-null   float64\n",
      " 3   Volume de esgotos tratado - 1000 m³   1556 non-null   float64\n",
      "dtypes: float64(2), int64(1), object(1)\n",
      "memory usage: 48.8+ KB\n"
     ]
    }
   ],
   "source": [
    "# Obtendo informações sobre as colunas e dados do Dataframe \"df_municipios_saneamento\"\n",
    "df_municipios_saneamento.info()"
   ]
  },
  {
   "cell_type": "markdown",
   "id": "2c2cd0a4",
   "metadata": {},
   "source": [
    "#### 4 - Tratamento do DataFrame \"df_municipios_habitantes\""
   ]
  },
  {
   "cell_type": "markdown",
   "id": "38bbfc9b",
   "metadata": {},
   "source": [
    "Observação: Ao tentar converter a coluna 'População Total' para int, ocorreu um erro por alguns registros estavam preenchidos como traço (-), para corrigir o problema eles foram substituídos pelo valor 0. O valor 0 indica que naquele ano o munícipio não havia sido criado."
   ]
  },
  {
   "cell_type": "code",
   "execution_count": 21,
   "id": "557322cd",
   "metadata": {},
   "outputs": [],
   "source": [
    "# Substituir '-' por 0 em todo o DataFrame\n",
    "df_municipios_habitantes = df_municipios_habitantes.replace('-', 0)\n",
    "\n",
    "\n",
    "\n",
    "# Usando a função melt para transformar o DataFrame\n",
    "df_municipios_habitantes = df_municipios_habitantes.melt(id_vars='MUNICÍPIO', \n",
    "                                                         var_name='Ano', \n",
    "                                                         value_name='Value')\n",
    "\n",
    "\n",
    "\n",
    "# Renomeando as colunas\n",
    "df_municipios_habitantes.columns = ['Município', 'Ano', 'População Total']\n",
    "\n",
    "\n",
    "\n",
    "# Removendo os pontos (.) da coluna \"População Total (Fonte: IMB)\"\n",
    "df_municipios_habitantes['População Total'] = \\\n",
    "   df_municipios_habitantes['População Total'].\\\n",
    "        apply(lambda x: x.replace('.', '') if isinstance(x, str) else x)\n",
    "\n",
    "                                                                                                                          \n",
    "                                                                                                                          \n",
    "# Convertendo a coluna \"População Total\" para o formato int\n",
    "df_municipios_habitantes['População Total'] = df_municipios_habitantes['População Total'].astype(int)\n",
    "df_municipios_habitantes['Ano'] = df_municipios_habitantes['Ano'].astype(int)"
   ]
  },
  {
   "cell_type": "code",
   "execution_count": 22,
   "id": "345ca578",
   "metadata": {},
   "outputs": [
    {
     "data": {
      "text/html": [
       "<div>\n",
       "<style scoped>\n",
       "    .dataframe tbody tr th:only-of-type {\n",
       "        vertical-align: middle;\n",
       "    }\n",
       "\n",
       "    .dataframe tbody tr th {\n",
       "        vertical-align: top;\n",
       "    }\n",
       "\n",
       "    .dataframe thead th {\n",
       "        text-align: right;\n",
       "    }\n",
       "</style>\n",
       "<table border=\"1\" class=\"dataframe\">\n",
       "  <thead>\n",
       "    <tr style=\"text-align: right;\">\n",
       "      <th></th>\n",
       "      <th>Município</th>\n",
       "      <th>Ano</th>\n",
       "      <th>População Total</th>\n",
       "    </tr>\n",
       "  </thead>\n",
       "  <tbody>\n",
       "    <tr>\n",
       "      <th>0</th>\n",
       "      <td>Abadia de Goiás</td>\n",
       "      <td>1992</td>\n",
       "      <td>0</td>\n",
       "    </tr>\n",
       "    <tr>\n",
       "      <th>1</th>\n",
       "      <td>Abadiânia</td>\n",
       "      <td>1992</td>\n",
       "      <td>9443</td>\n",
       "    </tr>\n",
       "    <tr>\n",
       "      <th>2</th>\n",
       "      <td>Acreúna</td>\n",
       "      <td>1992</td>\n",
       "      <td>14521</td>\n",
       "    </tr>\n",
       "    <tr>\n",
       "      <th>3</th>\n",
       "      <td>Adelândia</td>\n",
       "      <td>1992</td>\n",
       "      <td>2337</td>\n",
       "    </tr>\n",
       "    <tr>\n",
       "      <th>4</th>\n",
       "      <td>Água Fria de Goiás</td>\n",
       "      <td>1992</td>\n",
       "      <td>3989</td>\n",
       "    </tr>\n",
       "  </tbody>\n",
       "</table>\n",
       "</div>"
      ],
      "text/plain": [
       "            Município   Ano  População Total\n",
       "0     Abadia de Goiás  1992                0\n",
       "1           Abadiânia  1992             9443\n",
       "2             Acreúna  1992            14521\n",
       "3           Adelândia  1992             2337\n",
       "4  Água Fria de Goiás  1992             3989"
      ]
     },
     "execution_count": 22,
     "metadata": {},
     "output_type": "execute_result"
    }
   ],
   "source": [
    "df_municipios_habitantes.head()"
   ]
  },
  {
   "cell_type": "code",
   "execution_count": 23,
   "id": "d2ed758c",
   "metadata": {},
   "outputs": [
    {
     "name": "stdout",
     "output_type": "stream",
     "text": [
      "<class 'pandas.core.frame.DataFrame'>\n",
      "RangeIndex: 6642 entries, 0 to 6641\n",
      "Data columns (total 3 columns):\n",
      " #   Column           Non-Null Count  Dtype \n",
      "---  ------           --------------  ----- \n",
      " 0   Município        6642 non-null   object\n",
      " 1   Ano              6642 non-null   int32 \n",
      " 2   População Total  6642 non-null   int32 \n",
      "dtypes: int32(2), object(1)\n",
      "memory usage: 103.9+ KB\n"
     ]
    }
   ],
   "source": [
    "df_municipios_habitantes.info()"
   ]
  },
  {
   "cell_type": "code",
   "execution_count": 24,
   "id": "c6a58cdd",
   "metadata": {},
   "outputs": [
    {
     "data": {
      "text/html": [
       "<div>\n",
       "<style scoped>\n",
       "    .dataframe tbody tr th:only-of-type {\n",
       "        vertical-align: middle;\n",
       "    }\n",
       "\n",
       "    .dataframe tbody tr th {\n",
       "        vertical-align: top;\n",
       "    }\n",
       "\n",
       "    .dataframe thead th {\n",
       "        text-align: right;\n",
       "    }\n",
       "</style>\n",
       "<table border=\"1\" class=\"dataframe\">\n",
       "  <thead>\n",
       "    <tr style=\"text-align: right;\">\n",
       "      <th></th>\n",
       "      <th>Ano</th>\n",
       "      <th>População Total</th>\n",
       "    </tr>\n",
       "  </thead>\n",
       "  <tbody>\n",
       "    <tr>\n",
       "      <th>count</th>\n",
       "      <td>6642.00</td>\n",
       "      <td>6642.00</td>\n",
       "    </tr>\n",
       "    <tr>\n",
       "      <th>mean</th>\n",
       "      <td>2007.56</td>\n",
       "      <td>23457.42</td>\n",
       "    </tr>\n",
       "    <tr>\n",
       "      <th>std</th>\n",
       "      <td>9.22</td>\n",
       "      <td>90365.48</td>\n",
       "    </tr>\n",
       "    <tr>\n",
       "      <th>min</th>\n",
       "      <td>1992.00</td>\n",
       "      <td>0.00</td>\n",
       "    </tr>\n",
       "    <tr>\n",
       "      <th>25%</th>\n",
       "      <td>1999.00</td>\n",
       "      <td>3498.00</td>\n",
       "    </tr>\n",
       "    <tr>\n",
       "      <th>50%</th>\n",
       "      <td>2008.00</td>\n",
       "      <td>6373.00</td>\n",
       "    </tr>\n",
       "    <tr>\n",
       "      <th>75%</th>\n",
       "      <td>2016.00</td>\n",
       "      <td>15490.75</td>\n",
       "    </tr>\n",
       "    <tr>\n",
       "      <th>max</th>\n",
       "      <td>2022.00</td>\n",
       "      <td>1555626.00</td>\n",
       "    </tr>\n",
       "  </tbody>\n",
       "</table>\n",
       "</div>"
      ],
      "text/plain": [
       "          Ano  População Total\n",
       "count 6642.00          6642.00\n",
       "mean  2007.56         23457.42\n",
       "std      9.22         90365.48\n",
       "min   1992.00             0.00\n",
       "25%   1999.00          3498.00\n",
       "50%   2008.00          6373.00\n",
       "75%   2016.00         15490.75\n",
       "max   2022.00       1555626.00"
      ]
     },
     "execution_count": 24,
     "metadata": {},
     "output_type": "execute_result"
    }
   ],
   "source": [
    "# Configurando para não usar notação científica\n",
    "pd.set_option('display.float_format', '{:.2f}'.format)\n",
    "\n",
    "# Exibindo a descrição do DataFrame\n",
    "df_municipios_habitantes.describe()"
   ]
  },
  {
   "cell_type": "code",
   "execution_count": 55,
   "id": "4d424a37",
   "metadata": {},
   "outputs": [
    {
     "data": {
      "image/png": "[encoded data removed]",
      "text/plain": [
       "<Figure size 720x432 with 1 Axes>"
      ]
     },
     "metadata": {
      "needs_background": "light"
     },
     "output_type": "display_data"
    }
   ],
   "source": [
    "# Agrupando o DataFrame por Ano e obtendo a soma da População total anual do estado de Goiás\n",
    "df = pd.DataFrame(df_municipios_habitantes.groupby('Ano')['População Total'].\\\n",
    "                  sum()).reset_index()\n",
    "\n",
    "# Criar um gráfico de linha\n",
    "plt.figure(figsize=(10, 6))\n",
    "plt.scatter(df['Ano'], df['População Total'])\n",
    "\n",
    "# Personalize o gráfico\n",
    "plt.title('População Total Anual')\n",
    "plt.xlabel('Ano')\n",
    "plt.ylabel('População')\n",
    "\n",
    "# Exiba o gráfico\n",
    "plt.show()"
   ]
  },
  {
   "cell_type": "markdown",
   "id": "d4633139",
   "metadata": {},
   "source": [
    "Observação: O gráfico apresenta comportamento linear."
   ]
  },
  {
   "cell_type": "markdown",
   "id": "65d10a89",
   "metadata": {},
   "source": [
    "Observação: Tendo em vista a ausência de dados populacionais para os anos de 1996, 2000, 2007 e 2010 na base de dados, foi adotada uma abordagem de interpolação linear para estimar esses valores. Essa metodologia envolveu o cálculo da média entre os anos imediatamente anteriores e posteriores aos anos em que os dados estavam ausentes. Por exemplo, para estimar a população em 1996, foi calculada a média entre a população em 1995 e a população em 1997. Isso permitiu inferir população para esses anos intermediários com base em uma projeção linear a partir dos dados disponíveis."
   ]
  },
  {
   "cell_type": "code",
   "execution_count": 56,
   "id": "d2a21984",
   "metadata": {},
   "outputs": [
    {
     "data": {
      "text/html": [
       "<div>\n",
       "<style scoped>\n",
       "    .dataframe tbody tr th:only-of-type {\n",
       "        vertical-align: middle;\n",
       "    }\n",
       "\n",
       "    .dataframe tbody tr th {\n",
       "        vertical-align: top;\n",
       "    }\n",
       "\n",
       "    .dataframe thead th {\n",
       "        text-align: right;\n",
       "    }\n",
       "</style>\n",
       "<table border=\"1\" class=\"dataframe\">\n",
       "  <thead>\n",
       "    <tr style=\"text-align: right;\">\n",
       "      <th></th>\n",
       "      <th>Município</th>\n",
       "      <th>Ano</th>\n",
       "      <th>População Total</th>\n",
       "      <th>Possui dado interpolado?</th>\n",
       "    </tr>\n",
       "  </thead>\n",
       "  <tbody>\n",
       "    <tr>\n",
       "      <th>0</th>\n",
       "      <td>Abadia de Goiás</td>\n",
       "      <td>1992</td>\n",
       "      <td>0</td>\n",
       "      <td>Não</td>\n",
       "    </tr>\n",
       "    <tr>\n",
       "      <th>1</th>\n",
       "      <td>Abadiânia</td>\n",
       "      <td>1992</td>\n",
       "      <td>9443</td>\n",
       "      <td>Não</td>\n",
       "    </tr>\n",
       "    <tr>\n",
       "      <th>2</th>\n",
       "      <td>Acreúna</td>\n",
       "      <td>1992</td>\n",
       "      <td>14521</td>\n",
       "      <td>Não</td>\n",
       "    </tr>\n",
       "    <tr>\n",
       "      <th>3</th>\n",
       "      <td>Adelândia</td>\n",
       "      <td>1992</td>\n",
       "      <td>2337</td>\n",
       "      <td>Não</td>\n",
       "    </tr>\n",
       "    <tr>\n",
       "      <th>4</th>\n",
       "      <td>Água Fria de Goiás</td>\n",
       "      <td>1992</td>\n",
       "      <td>3989</td>\n",
       "      <td>Não</td>\n",
       "    </tr>\n",
       "  </tbody>\n",
       "</table>\n",
       "</div>"
      ],
      "text/plain": [
       "            Município   Ano  População Total Possui dado interpolado?\n",
       "0     Abadia de Goiás  1992                0                      Não\n",
       "1           Abadiânia  1992             9443                      Não\n",
       "2             Acreúna  1992            14521                      Não\n",
       "3           Adelândia  1992             2337                      Não\n",
       "4  Água Fria de Goiás  1992             3989                      Não"
      ]
     },
     "execution_count": 56,
     "metadata": {},
     "output_type": "execute_result"
    }
   ],
   "source": [
    "df_municipios_habitantes['Possui dado interpolado?'] = 'Não'\n",
    "df_municipios_habitantes.head()"
   ]
  },
  {
   "cell_type": "code",
   "execution_count": 57,
   "id": "13f29165",
   "metadata": {},
   "outputs": [
    {
     "data": {
      "text/html": [
       "<div>\n",
       "<style scoped>\n",
       "    .dataframe tbody tr th:only-of-type {\n",
       "        vertical-align: middle;\n",
       "    }\n",
       "\n",
       "    .dataframe tbody tr th {\n",
       "        vertical-align: top;\n",
       "    }\n",
       "\n",
       "    .dataframe thead th {\n",
       "        text-align: right;\n",
       "    }\n",
       "</style>\n",
       "<table border=\"1\" class=\"dataframe\">\n",
       "  <thead>\n",
       "    <tr style=\"text-align: right;\">\n",
       "      <th></th>\n",
       "      <th>Município</th>\n",
       "      <th>Ano</th>\n",
       "      <th>População Total</th>\n",
       "      <th>Possui dado interpolado?</th>\n",
       "    </tr>\n",
       "  </thead>\n",
       "  <tbody>\n",
       "    <tr>\n",
       "      <th>0</th>\n",
       "      <td>Abadia de Goiás</td>\n",
       "      <td>1992</td>\n",
       "      <td>0</td>\n",
       "      <td>Não</td>\n",
       "    </tr>\n",
       "    <tr>\n",
       "      <th>1</th>\n",
       "      <td>Abadiânia</td>\n",
       "      <td>1992</td>\n",
       "      <td>9443</td>\n",
       "      <td>Não</td>\n",
       "    </tr>\n",
       "    <tr>\n",
       "      <th>2</th>\n",
       "      <td>Acreúna</td>\n",
       "      <td>1992</td>\n",
       "      <td>14521</td>\n",
       "      <td>Não</td>\n",
       "    </tr>\n",
       "    <tr>\n",
       "      <th>3</th>\n",
       "      <td>Adelândia</td>\n",
       "      <td>1992</td>\n",
       "      <td>2337</td>\n",
       "      <td>Não</td>\n",
       "    </tr>\n",
       "    <tr>\n",
       "      <th>4</th>\n",
       "      <td>Água Fria de Goiás</td>\n",
       "      <td>1992</td>\n",
       "      <td>3989</td>\n",
       "      <td>Não</td>\n",
       "    </tr>\n",
       "  </tbody>\n",
       "</table>\n",
       "</div>"
      ],
      "text/plain": [
       "            Município   Ano  População Total Possui dado interpolado?\n",
       "0     Abadia de Goiás  1992                0                      Não\n",
       "1           Abadiânia  1992             9443                      Não\n",
       "2             Acreúna  1992            14521                      Não\n",
       "3           Adelândia  1992             2337                      Não\n",
       "4  Água Fria de Goiás  1992             3989                      Não"
      ]
     },
     "execution_count": 57,
     "metadata": {},
     "output_type": "execute_result"
    }
   ],
   "source": [
    "# Descrevendo os anos que haverá a estimação da população por meio de interpolação\n",
    "anos_faltantes = [1996, 2000, 2007, 2010]\n",
    "\n",
    "\n",
    "\n",
    "# Criando um DataFrame para armazenar as estimativas para cada ano e município\n",
    "estimativas = []\n",
    "\n",
    "\n",
    "\n",
    "# Iterarando sobre os municípios únicos no DataFrame\n",
    "municipios_unicos = df_municipios_habitantes['Município'].unique()\n",
    "for municipio in municipios_unicos:\n",
    "    for ano_faltante in anos_faltantes:\n",
    "        # Filtrando os dados para o município atual\n",
    "        df_municipio = df_municipios_habitantes[df_municipios_habitantes['Município'] == municipio]\n",
    "        \n",
    "        # Verificando se os anos adjacentes estão disponíveis para interpolação\n",
    "        if (ano_faltante - 1) in df_municipio['Ano'].\\\n",
    "            values and (ano_faltante + 1) in df_municipio['Ano'].values:\n",
    "            # Filtrar os anos adjacentes\n",
    "            anos_adjacentes = \\\n",
    "                df_municipio[(df_municipio['Ano'] == ano_faltante - 1) |\\\n",
    "                             (df_municipio['Ano'] == ano_faltante + 1)]\n",
    "            \n",
    "            # Calculculando a interpolação linear\n",
    "            populacao_ano_anterior = \\\n",
    "                anos_adjacentes[anos_adjacentes['Ano'] == ano_faltante - 1]['População Total'].\\\n",
    "                    values[0]\n",
    "            populacao_ano_posterior = \\\n",
    "                anos_adjacentes[anos_adjacentes['Ano'] == ano_faltante + 1]['População Total'].\\\n",
    "                    values[0]\n",
    "            \n",
    "            populacao_estimada = (populacao_ano_anterior + populacao_ano_posterior) / 2 \n",
    "        else:\n",
    "            # Se não houver dados para interpolação, será usado o valor 0\n",
    "            populacao_estimada = 0\n",
    "        \n",
    "        # Armazenando a estimativa para o município e ano atual\n",
    "        estimativas.append({'Município': municipio, 'Ano': ano_faltante, 'População Total': \\\n",
    "                            populacao_estimada})\n",
    "\n",
    "        \n",
    "\n",
    "# Criando um DataFrame com as estimativas\n",
    "df_estimativas = pd.DataFrame(estimativas)\n",
    "\n",
    "\n",
    "\n",
    "# Concatenando a estimativas (dados interpolados) com o DataFrame \"df_municipios_habitantes\"\n",
    "df_municipios_habitantes = pd.concat([df_municipios_habitantes, df_estimativas], ignore_index=True)\n",
    "\n",
    "\n",
    "\n",
    "# Convertendo a coluna \"População Total\" para o formato int\n",
    "df_municipios_habitantes['População Total'] = df_municipios_habitantes['População Total'].astype(int)\n",
    "df_municipios_habitantes['Ano'] = df_municipios_habitantes['Ano'].astype(int)\n",
    "\n",
    "\n",
    "\n",
    "df_municipios_habitantes.head()"
   ]
  },
  {
   "cell_type": "code",
   "execution_count": 65,
   "id": "fdf30626",
   "metadata": {},
   "outputs": [],
   "source": [
    "df_municipios_habitantes.loc[\n",
    "    df_municipios_habitantes['Possui dado interpolado?'] != 'Não', \n",
    "    'Possui dado interpolado?'\n",
    "] = 'Sim'"
   ]
  },
  {
   "cell_type": "code",
   "execution_count": 66,
   "id": "976089a1",
   "metadata": {},
   "outputs": [
    {
     "data": {
      "text/plain": [
       "array(['Não', 'Sim'], dtype=object)"
      ]
     },
     "execution_count": 66,
     "metadata": {},
     "output_type": "execute_result"
    }
   ],
   "source": [
    "df_municipios_habitantes['Possui dado interpolado?'].unique()"
   ]
  },
  {
   "cell_type": "code",
   "execution_count": 67,
   "id": "b3aea767",
   "metadata": {},
   "outputs": [
    {
     "data": {
      "text/plain": [
       "(7626, 4)"
      ]
     },
     "execution_count": 67,
     "metadata": {},
     "output_type": "execute_result"
    }
   ],
   "source": [
    "df_municipios_habitantes.shape"
   ]
  },
  {
   "cell_type": "code",
   "execution_count": 68,
   "id": "9cee7321",
   "metadata": {},
   "outputs": [
    {
     "name": "stdout",
     "output_type": "stream",
     "text": [
      "<class 'pandas.core.frame.DataFrame'>\n",
      "RangeIndex: 7626 entries, 0 to 7625\n",
      "Data columns (total 4 columns):\n",
      " #   Column                    Non-Null Count  Dtype \n",
      "---  ------                    --------------  ----- \n",
      " 0   Município                 7626 non-null   object\n",
      " 1   Ano                       7626 non-null   int32 \n",
      " 2   População Total           7626 non-null   int32 \n",
      " 3   Possui dado interpolado?  7626 non-null   object\n",
      "dtypes: int32(2), object(2)\n",
      "memory usage: 178.9+ KB\n"
     ]
    }
   ],
   "source": [
    "df_municipios_habitantes.info()"
   ]
  },
  {
   "cell_type": "code",
   "execution_count": 69,
   "id": "fb8869b1",
   "metadata": {},
   "outputs": [
    {
     "name": "stdout",
     "output_type": "stream",
     "text": [
      "Quantidade de registros duplicados: 0\n"
     ]
    }
   ],
   "source": [
    "quantidade_duplicadas = df_municipios_habitantes.duplicated().sum()\n",
    "print(f'Quantidade de registros duplicados: {quantidade_duplicadas}')"
   ]
  },
  {
   "cell_type": "markdown",
   "id": "304831c1",
   "metadata": {},
   "source": [
    "#### 5 - Junção dos DataFrames: \"df_municipios_habitantes\", \"df_municipios_saneamento\" e \"df_juncao_municipios_habitantes_saneamento\""
   ]
  },
  {
   "cell_type": "code",
   "execution_count": 70,
   "id": "36cb89a8",
   "metadata": {},
   "outputs": [],
   "source": [
    "# Juntando os DataFrames \"df_municipios_habitantes\" e \"df_municipios_saneamento\"\n",
    "df_juncao_municipios_habitantes_saneamento = pd.merge(df_municipios_habitantes, \n",
    "                                                      df_municipios_saneamento, \n",
    "                                                      left_on=['Município', 'Ano'], \n",
    "                                                      right_on=['Município', 'Ano de Referência'], \n",
    "                                                      how='left')\n",
    "# Foi verificada a necessidade de correção do nome do Município \"São Luís de Montes Belos\" \n",
    "df_juncao_municipios_habitantes_saneamento['Município'] = df_juncao_municipios_habitantes_saneamento['Município'].replace( \n",
    "   \"São Luis de Montes Belos\", \"São Luís de Montes Belos\" \n",
    ") \n",
    "\n",
    "\n",
    "# Juntando os DataFrames \"df_juncao_municipios_habitantes_saneamento\" e \"df_municipios_listagem\"\n",
    "df_juncao_municipios_habitantes_saneamento_codigo = \\\n",
    "    pd.merge(df_juncao_municipios_habitantes_saneamento, \n",
    "             df_municipios_listagem, \n",
    "            left_on=['Município'], \n",
    "            right_on=['Municípios de Goiás'], \n",
    "            how='left')"
   ]
  },
  {
   "cell_type": "markdown",
   "id": "bc9faddd",
   "metadata": {},
   "source": [
    "#### 6 - Criação das colunas: \"Volume de esgoto produzido - 1000 m³\" e \"População Total Urbana\" e Filtragem do DataFrame \"df_juncao_municipios_habitantes_saneamento_codigo\""
   ]
  },
  {
   "cell_type": "markdown",
   "id": "09940160",
   "metadata": {},
   "source": [
    "A partir dos dados obtidos da nova base de dados (“df_juncao_municipios_habitantes_saneamento_codigo”), foram criadas as colunas “Volume de esgoto produzido - 1000m³” e “População Total Urbana”. Tais colunas obedeceram aos seguintes critérios:\n",
    "- População Total Urbana: Para estimar a população urbana, foi utilizado como referência o Censo Demográfico realizado em 2010 pelo IBGE, de acordo com aquele censo a população residente urbano do estado de Goiás representava o valor médio de 90,29% da população total do estado, ou seja, um fator de 0,9029 (GOIÁS, 2011).\n",
    "- Volume de esgoto produzido - 1000m³: Para estimar a quantidade de esgoto produzida em cada município do estado de Goiás, foi seguida as diretrizes estabelecidas pela norma da Associação Brasileira de Normas Técnicas (ABNT) NBR 7229/1993. Esta norma tem como um de seus objetivos definir a contribuição de esgoto por pessoa para o planejamento, construção e operação de sistemas de tanques sépticos. Neste projeto, utilizou-se um valor de referência de 130 litros de esgoto por pessoa. Considerando que os dados do DataFrame estão expressos em milhares de metros cúbicos (1000³) por ano, calcula-se a quantidade de es-goto produzida multiplicando o número de habitantes (população urbana) pelo seguinte fator:\n",
    "\n",
    "$$\n",
    "\\text{fator_esgoto_produzido} = \\frac{130 \\, \\text{litros por pessoa} \\times 365 \\, \\text{dias}}{1000000}\n",
    "$$\n",
    "\n",
    "\n",
    "Esse fator permite estimar a produção de esgoto com base na população anual de cada município."
   ]
  },
  {
   "cell_type": "code",
   "execution_count": 71,
   "id": "034ed2b0",
   "metadata": {},
   "outputs": [],
   "source": [
    "# Fator utilizado para calcular o esgoto produzido em cada munícipio\n",
    "fator_esgoto_produzido = 130 * 365 / 1000 / 1000\n",
    "\n",
    "# Fator utilizado para calcular a população urbana de cada munícipio\n",
    "fator_populacao_urbana = 0.9029\n",
    "\n",
    "# Gerando a coluna \"População Total Urbana³\"\n",
    "df_juncao_municipios_habitantes_saneamento_codigo['População Total Urbana'] = \\\n",
    "    (df_juncao_municipios_habitantes_saneamento_codigo['População Total'] * fator_populacao_urbana).\\\n",
    "        astype(int)\n",
    "\n",
    "# Gerando a coluna \"Volume de esgoto produzido - 1000 m³\"\n",
    "df_juncao_municipios_habitantes_saneamento_codigo['Volume de esgoto produzido - 1000 m³'] = \\\n",
    "    (df_juncao_municipios_habitantes_saneamento_codigo['População Total Urbana'] *\\\n",
    "     fator_esgoto_produzido).round(2)\n",
    "\n",
    "\n",
    "# Filtrando e renomeando as colunas\n",
    "colunas_mantidas = ['Códigos',\n",
    "                    'Município',\n",
    "                    'Ano',\n",
    "                    'População Total Urbana',\n",
    "                    'Volume de esgoto produzido - 1000 m³',\n",
    "                    'Volume de esgotos coletado - 1000 m³',\n",
    "                    'Volume de esgotos tratado - 1000 m³',\n",
    "                    'Possui dado interpolado?']\n",
    "\n",
    "colunas_renomeadas = {'Códigos' : 'Código do Município (IBGE)'}\n",
    "\n",
    "df_municipios_habitantes_saneamento_codigo = \\\n",
    "    df_juncao_municipios_habitantes_saneamento_codigo[colunas_mantidas]\n",
    "df_municipios_habitantes_saneamento_codigo = \\\n",
    "    df_municipios_habitantes_saneamento_codigo.rename(columns=colunas_renomeadas)\n",
    "\n",
    "\n",
    "# Substituindo valores ausente por \"0\"\n",
    "df_municipios_habitantes_saneamento_codigo = \\\n",
    "    df_municipios_habitantes_saneamento_codigo.fillna(0)"
   ]
  },
  {
   "cell_type": "code",
   "execution_count": 72,
   "id": "b937d32e",
   "metadata": {},
   "outputs": [],
   "source": [
    "# Verificando se a pasta \"dados_GO/dado_tratado\" já existe\n",
    "if not os.path.exists('dados_GO/B - dado_tratado'):\n",
    "    # Se não existir, cria a pasta\n",
    "    os.makedirs('dados_GO/B - dado_tratado')\n",
    "\n",
    "#Salvando o arquivo CSV no diretório \"dados_GO/dado_tratado\" como dados relativos aos anos de 1992 a 2021\n",
    "df_municipios_habitantes_saneamento_codigo = \\\n",
    "    df_municipios_habitantes_saneamento_codigo[df_municipios_habitantes_saneamento_codigo['Ano'] < 2022]\n",
    "\n",
    "df_municipios_habitantes_saneamento_codigo.to_csv('dados_GO/B - dado_tratado/df_municipios_habitantes_saneamento_codigo.csv', \n",
    "                                                  index=False, sep=';')"
   ]
  },
  {
   "cell_type": "markdown",
   "id": "7156af20",
   "metadata": {},
   "source": [
    "### Dados sobre versão\n",
    "- Python: 3.11.4\n",
    "- pandas==1.3.4\n",
    "- matplotlib==3.4.3"
   ]
  }
 ],
 "metadata": {
  "kernelspec": {
   "display_name": "Python 3 (ipykernel)",
   "language": "python",
   "name": "python3"
  },
  "language_info": {
   "codemirror_mode": {
    "name": "ipython",
    "version": 3
   },
   "file_extension": ".py",
   "mimetype": "text/x-python",
   "name": "python",
   "nbconvert_exporter": "python",
   "pygments_lexer": "ipython3",
   "version": "3.9.7"
  }
 },
 "nbformat": 4,
 "nbformat_minor": 5
}
