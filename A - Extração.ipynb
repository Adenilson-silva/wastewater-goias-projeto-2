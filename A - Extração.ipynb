{
 "cells": [
  {
   "cell_type": "markdown",
   "id": "21d0e519",
   "metadata": {},
   "source": [
    "# Uso de dados para otimizar a alocação de recursos públicos destinados ao saneamento básico de Goiás"
   ]
  },
  {
   "cell_type": "markdown",
   "id": "211c5907",
   "metadata": {},
   "source": [
    "### AUTOR: ADENILSON SILVA"
   ]
  },
  {
   "cell_type": "markdown",
   "id": "ab874089",
   "metadata": {},
   "source": [
    "Para controle do fluxo de atividades do projeto, a consultoria utilizou o trello. O painel criado [aqui](https://trello.com/b/RIgkWLxE/projeto-uso-de-dados-para-otimizar-a-aloca%C3%A7%C3%A3o-de-recursos-p%C3%BAblicos-destinados-ao-saneamento-b%C3%A1sico-de-goi%C3%A1s)."
   ]
  },
  {
   "cell_type": "markdown",
   "id": "41177f4c",
   "metadata": {},
   "source": [
    "# EXTRAÇÃO DE DADOS"
   ]
  },
  {
   "cell_type": "markdown",
   "id": "54acf368",
   "metadata": {},
   "source": [
    "A seguir, é apresentado o código utilizado pela consultoria para a extração dos dados do projeto."
   ]
  },
  {
   "cell_type": "markdown",
   "id": "0e50fa89",
   "metadata": {},
   "source": [
    "####  1 - Importando bibliotecas e criando funções"
   ]
  },
  {
   "cell_type": "code",
   "execution_count": 1,
   "id": "5d1cbfdc",
   "metadata": {},
   "outputs": [],
   "source": [
    "from bs4 import BeautifulSoup  # Usada para fazer a análise do HTML\n",
    "from selenium import webdriver  # Usada para automatizar a interação com um navegador\n",
    "from webdriver_manager.chrome import ChromeDriverManager  # Usada para gerenciar o driver do Chrome \n",
    "from selenium.webdriver.chrome.service import Service  # Usada para configurar o serviço do Chrome\n",
    "from selenium.webdriver.common.by import By  # Usada para localizar elementos na página\n",
    "from selenium.webdriver.common.keys import Keys  # Usada para enviar teclas especiais, como Enter\n",
    "import requests  # Usada para fazer requisições HTTP\n",
    "import time  # Usada para adicionar pausas entre as ações\n",
    "import pandas as pd  # Usada para trabalhar com dados em formato de tabela (DataFrame)\n",
    "import os  # Importa o módulo 'os' para lidar com operações do sistema de arquivos"
   ]
  },
  {
   "cell_type": "code",
   "execution_count": 2,
   "id": "ddb0d325",
   "metadata": {},
   "outputs": [],
   "source": [
    "def iniciando_navegador(url):\n",
    "    \"\"\"\n",
    "    Inicializa e retorna uma instância do navegador Google Chrome.\n",
    "    \n",
    "    Parâmetros:\n",
    "    url (str): A URL que será aberta no navegador.\n",
    "    \n",
    "    Retorna:\n",
    "    selenium.webdriver.Chrome: Uma instância do navegador Chrome aberta na URL especificada.\n",
    "    \n",
    "    Dependências:\n",
    "    - selenium\n",
    "    - webdriver_manager\n",
    "    \n",
    "    Exemplo de uso:\n",
    "    ```python\n",
    "    navegador = iniciando_navegador(\"https://www.google.com\")\n",
    "    ```\n",
    "    \"\"\"\n",
    "    servico = Service(ChromeDriverManager().install())\n",
    "    navegador = webdriver.Chrome(service=servico)\n",
    "    \n",
    "    navegador.get(url)\n",
    "    navegador.maximize_window()\n",
    "    \n",
    "    return navegador\n"
   ]
  },
  {
   "cell_type": "markdown",
   "id": "da3dd7ed",
   "metadata": {},
   "source": [
    "#### 2 -  Iniciando o navegador Chrome para a coleta de dados relativos ao sanemanto dos municípios do estado de Goiás"
   ]
  },
  {
   "cell_type": "code",
   "execution_count": 3,
   "id": "7670b70e",
   "metadata": {},
   "outputs": [],
   "source": [
    "try:\n",
    "    url = \"http://app4.mdr.gov.br/serieHistorica/#?\"\n",
    "    navegador = iniciando_navegador(url)\n",
    "    tempo_espera = 3\n",
    "\n",
    "except WebDriverException as e:\n",
    "   print(\"Ocorreu um erro ao iniciar o navegador:\", e)"
   ]
  },
  {
   "cell_type": "markdown",
   "id": "8dfd0cb5",
   "metadata": {},
   "source": [
    "**Observação:** \n",
    "\n",
    "Considerando que o SNIS opera por meio de método POST, a coleta foi realizada mediante a utilização das bibliotecas Python _selenium_ e _beautifulsoup4_. "
   ]
  },
  {
   "cell_type": "markdown",
   "id": "a3fb0e77",
   "metadata": {},
   "source": [
    "#### 3 - Acessando, com o Selenium, a página que apresenta os dados  relativos ao sanemanto dos municípios do estado de Goiás"
   ]
  },
  {
   "cell_type": "code",
   "execution_count": 4,
   "id": "8e1921a2",
   "metadata": {},
   "outputs": [],
   "source": [
    "# Script para navegar até a pagína com os dados\n",
    "time.sleep(tempo_espera)\n",
    "\n",
    "navegador.find_element(By.XPATH, \n",
    "                       \"//*[@id='\"'menu-item-ae'\"']/i\").click()\n",
    "time.sleep(tempo_espera)\n",
    "navegador.find_element(By.XPATH, \n",
    "                       \"//*[@id='\"'oculto'\"']/li[3]/a\").click()\n",
    "time.sleep(tempo_espera)\n",
    "navegador.find_element(By.XPATH, \n",
    "                       \"//*[@id='\"'frm_filtros'\"']/fieldset[1]/p[1]/button\").click() \n",
    "time.sleep(tempo_espera)\n",
    "navegador.find_element(By.XPATH, \n",
    "                       \"//*[@id='\"'multiselect_menu_ano_ref'\"']/div/ul/li[1]/a/span[2]\").click()\n",
    "time.sleep(tempo_espera)\n",
    "navegador.find_element(By.XPATH, \n",
    "                       \"//*[@id='\"'frm_filtros'\"']/fieldset[1]/p[1]/button\").click() \n",
    "time.sleep(tempo_espera)\n",
    "navegador.find_element(By.XPATH, \n",
    "                       \"//*[@id='\"'frm_filtros'\"']/fieldset[1]/p[3]/button/span[2]\").click()\n",
    "time.sleep(tempo_espera)\n",
    "navegador.find_element(By.XPATH, \n",
    "                       \"//*[@id='\"'ui-multiselect-cod_srv-option-1'\"']\").click()\n",
    "navegador.find_element(By.XPATH, \n",
    "                       \"//*[@id='\"'ui-multiselect-cod_srv-option-2'\"']\").click()\n",
    "time.sleep(tempo_espera)\n",
    "navegador.find_element(By.XPATH, \n",
    "                       \"//*[@id='\"'frm_filtros'\"']/fieldset[1]/p[3]/button/span[2]\").click()\n",
    "time.sleep(tempo_espera)\n",
    "navegador.find_element(By.XPATH, \n",
    "                       \"//*[@id='\"'frm_filtros'\"']/fieldset[2]/p[2]/button\").click()\n",
    "time.sleep(tempo_espera)\n",
    "navegador.find_element(By.XPATH, \n",
    "                       \"//*[@id='\"'ui-multiselect-sgl_est-option-8'\"']\").click()\n",
    "time.sleep(tempo_espera)\n",
    "navegador.find_element(By.XPATH, \n",
    "                       \"//*[@id='\"'frm_filtros'\"']/fieldset[2]/p[2]/button\").click()\n",
    "time.sleep(tempo_espera)\n",
    "navegador.find_element(By.XPATH, \n",
    "                       \"//*[@id='\"'frm_filtros'\"']/fieldset[3]/p/button\").click()\n",
    "time.sleep(tempo_espera)\n",
    "navegador.find_element(By.XPATH, \n",
    "                       \"//*[@id='\"'multiselect_menu_cod_mun'\"']/div/ul/li[1]/a/span[2]\").click()\n",
    "time.sleep(tempo_espera)\n",
    "navegador.find_element(By.XPATH, \n",
    "                       \"//*[@id='\"'menufiltrosinternos'\"']/ul/li[2]/a\").click()\n",
    "time.sleep(tempo_espera)\n",
    "navegador.find_element(By.XPATH, \n",
    "                       \"//*[@id='\"'frm_colunas'\"']/p[1]/button\").click()\n",
    "time.sleep(tempo_espera)\n",
    "navegador.find_element(By.XPATH, \n",
    "                       \"//*[@id='\"'ui-multiselect-cod_fam_info-option-0'\"']\").click()\n",
    "navegador.find_element(By.XPATH, \n",
    "                       \"//*[@id='\"'ui-multiselect-cod_fam_info-option-3'\"']\").click()\n",
    "time.sleep(tempo_espera)\n",
    "navegador.find_element(By.XPATH, \n",
    "                       \"//*[@id='\"'frm_colunas'\"']/p[1]/button\").click()\n",
    "time.sleep(tempo_espera)\n",
    "navegador.find_element(By.XPATH, \n",
    "                       '//*[@id=\"frm_colunas\"]/p[2]/button').click()\n",
    "time.sleep(tempo_espera)\n",
    "navegador.find_element(By.XPATH, \n",
    "                       '//*[@id=\"multiselect_menu_fk_glossario\"]/div/ul/li[2]/a/span[2]').click()\n",
    "time.sleep(tempo_espera)\n",
    "navegador.find_element(By.XPATH, \n",
    "                       '//*[@id=\"ui-multiselect-fk_glossario-option-21\"]').click()\n",
    "time.sleep(tempo_espera)\n",
    "navegador.find_element(By.XPATH, \n",
    "                       '//*[@id=\"ui-multiselect-fk_glossario-option-22\"]').click()\n",
    "time.sleep(tempo_espera)\n",
    "navegador.find_element(By.XPATH, \n",
    "                       '//*[@id=\"multiselect_menu_fk_glossario\"]/div/ul/li[3]/a/span').click()\n",
    "time.sleep(tempo_espera)\n",
    "navegador.find_element(By.XPATH, \n",
    "                       \"//*[@id='\"'bt_gerar'\"']\").click()\n",
    "time.sleep(tempo_espera)\n",
    "navegador.find_element(By.XPATH, \n",
    "    \"//*[@id='\"'div_pager-busca-personalizada_center'\"']/table/tbody/tr/td[8]/select\").\\\n",
    "    send_keys(\"100\")\n",
    "time.sleep(tempo_espera)\n",
    "navegador.find_element(By.XPATH,\n",
    "    '//*[@id=\"div_pager-busca-personalizada_center\"]/table/tbody/tr/td[4]/input').click()\n",
    "time.sleep(tempo_espera)"
   ]
  },
  {
   "cell_type": "markdown",
   "id": "758226c6",
   "metadata": {},
   "source": [
    "#### 4 - Coletando, com o BeautifulSoup (e com o auxílio do Selenium),  os dados relativos ao sanemanto dos municípios do estado de Goiás"
   ]
  },
  {
   "cell_type": "code",
   "execution_count": 5,
   "id": "71f2ebdf",
   "metadata": {},
   "outputs": [],
   "source": [
    "# Criando um objeto BeautifulSoup para analisar o código-fonte da página atual no navegador\n",
    "soup = BeautifulSoup(navegador.page_source, \"html.parser\")\n",
    "\n",
    "# Encontrando a linha de cabeçalho da tabela usando o atributo 'class'\n",
    "cabecalho = soup.find('tr', {'class': 'ui-jqgrid-labels jqg-third-row-header'})\n",
    "\n",
    "# Extraindo o texto das células no cabeçalho da tabela\n",
    "cabecalho_texto = [cell.get_text(strip=True) for cell in cabecalho.find_all('th')]\n",
    "\n",
    "# Encontrando o número de páginas na paginação\n",
    "numero_paginas = \\\n",
    "    int(navegador.find_element(By.XPATH,'//*[@id=\"sp_1_div_pager-busca-personalizada\"]').text)\n",
    "\n",
    "# Criando o DataFrame \"df_municipios_saneamento\" vazio\n",
    "df_municipios_saneamento = pd.DataFrame()\n",
    "\n",
    "# Loop para iterar através das páginas e coletar os dados\n",
    "for _ in range(numero_paginas):\n",
    "    # Criando um novo objeto BeautifulSoup com o código-fonte atual da página\n",
    "    soup = BeautifulSoup(navegador.page_source, \"html.parser\")\n",
    "    \n",
    "    # Lendo a tabela de dados usando pandas e pulando a primeira linha (skiprows=[0])\n",
    "    df_municipios_saneamento_local = \\\n",
    "        pd.read_html((((str(soup.find('table', {'class': 'ui-jqgrid-btable'}))).\\\n",
    "                       replace('.', '')).replace(',', '.')),\\\n",
    "                        skiprows=[0],)[0]\n",
    "    \n",
    "    # Concatenando o DataFrame local no DataFrame preliminar\n",
    "    df_municipios_saneamento = pd.concat([df_municipios_saneamento, df_municipios_saneamento_local], \n",
    "                                         ignore_index=True)\n",
    "    \n",
    "    # Clicando no botão \"Próxima página\" para navegar para a próxima página de resultados\n",
    "    navegador.find_element(By.XPATH, \n",
    "                           '//*[@id=\"next_div_pager-busca-personalizada\"]/span').click()\n",
    "    \n",
    "    # Esperando por um curto período de tempo (tempo_espera) para a página carregar completamente\n",
    "    time.sleep(tempo_espera)\n",
    "\n",
    "# Definindo os nomes das colunas no DataFrame \"df_municipios_saneamento\" com os valores do cabeçalho\n",
    "df_municipios_saneamento.columns = cabecalho_texto\n",
    "\n",
    "# Fechando o navegador após a conclusão da coleta de dados\n",
    "navegador.quit()"
   ]
  },
  {
   "cell_type": "markdown",
   "id": "129c6f07",
   "metadata": {},
   "source": [
    "#### 5 - Salvando o DataFrame com os dados relativos ao sanemanto dos municípios do estado de Goiás"
   ]
  },
  {
   "cell_type": "code",
   "execution_count": 6,
   "id": "3ab384bd",
   "metadata": {},
   "outputs": [],
   "source": [
    "# Verificamdo se a pasta \"dados_GO/dado_bruto\" já existe\n",
    "if not os.path.exists('dados_GO/A - dado_bruto'):\n",
    "    # Se não existir, cria a pasta\n",
    "    os.makedirs('dados_GO/A - dado_bruto')\n",
    "\n",
    "#Salvando o arquivo CSV no diretório \"dados_GO/dado_bruto\"\n",
    "df_municipios_saneamento.to_csv('dados_GO/A - dado_bruto/df_municipios_saneamento.csv', \n",
    "                                index=False, sep=';')"
   ]
  },
  {
   "cell_type": "markdown",
   "id": "4b67c32c",
   "metadata": {},
   "source": [
    "#### 6 -  Coletando, com o BeautifulSoup, a listagem de todos os municípios do estado de Goiás"
   ]
  },
  {
   "cell_type": "markdown",
   "id": "0d1a8873",
   "metadata": {},
   "source": [
    "Observação sobre a coleta dos dados: A coleta foi realizada mediante a utilização da biblioteca Python beautifulsoup4. Estes dados serão utilizados unicamente para atualizar a base de análise descritiva e de análise preditiva; ou seja, para manter na base de dados o atual código municipal utilizado pelo IBGE (código IBGE7)."
   ]
  },
  {
   "cell_type": "code",
   "execution_count": 7,
   "id": "602ff231",
   "metadata": {},
   "outputs": [
    {
     "name": "stdout",
     "output_type": "stream",
     "text": [
      "A tabela com os municípios de Goiás foi encontrada e seus dados foram armazenados na variável \"df_municipios_listagem\"\n"
     ]
    }
   ],
   "source": [
    "# Fazendo uma requisição HTTP para a página\n",
    "url = 'https://www.ibge.gov.br/explica/codigos-dos-municipios.php#GO'\n",
    "\n",
    "try:\n",
    "    response = requests.get(url)\n",
    "    response.raise_for_status()  # Lança exceção se a resposta não for bem-sucedida\n",
    "except requests.RequestException as e:\n",
    "    print(f'Erro ao acessar a página: {e}')\n",
    "    exit(1)\n",
    "\n",
    "# Criando um objeto Beautiful Soup com o conteúdo da página\n",
    "soup = BeautifulSoup(response.content, 'html.parser')\n",
    "\n",
    "# Encontrando a tabela desejada\n",
    "table = soup.find_all('table')[9]\n",
    "\n",
    "try:\n",
    "    # Convertendo a tabela em um DataFrame\n",
    "    df_municipios_listagem = pd.read_html(str(table))[0]\n",
    "    soup = None\n",
    "    print('A tabela com os municípios de Goiás foi encontrada e seus dados ' \n",
    "          'foram armazenados na variável \"df_municipios_listagem\"')\n",
    "except ValueError:\n",
    "    print('Nenhuma tabela encontrada na página.')"
   ]
  },
  {
   "cell_type": "markdown",
   "id": "c7845b21",
   "metadata": {},
   "source": [
    "#### 7 -  Salvando o DataFrame com a listagem de todos os municípios do estado de Goiás"
   ]
  },
  {
   "cell_type": "code",
   "execution_count": 8,
   "id": "fdc56616",
   "metadata": {},
   "outputs": [],
   "source": [
    "# Verificando se a pasta \"dados_GO/dado_bruto\" já existe\n",
    "if not os.path.exists('dados_GO/A - dado_bruto'):\n",
    "    # Se não existir, cria a pasta\n",
    "    os.makedirs('dados_GO/A - dado_bruto')\n",
    "\n",
    "#Salvando o arquivo CSV no diretório \"dados_GO/dado_bruto\"\n",
    "df_municipios_listagem.to_csv('dados_GO/A - dado_bruto/df_municipios_listagem.csv', \n",
    "                              index=False, sep=';')"
   ]
  },
  {
   "cell_type": "markdown",
   "id": "5536acc3",
   "metadata": {},
   "source": [
    "Observação:\n",
    "\n",
    "Os dados relativos ao número de habitantes dos municípios do estado de Goiás foram encaminhados por meio de arquivo .csv pelo IMB."
   ]
  },
  {
   "cell_type": "markdown",
   "id": "bed0452f",
   "metadata": {},
   "source": [
    "### Dados sobre versão\n",
    "- Python: 3.11.4\n",
    "- beautifulsoup4==4.10.0\n",
    "- selenium==4.11.2\n",
    "- webdriver_manager==4.0.2\n",
    "- requests==2.26.0\n",
    "- pandas==1.3.4"
   ]
  }
 ],
 "metadata": {
  "kernelspec": {
   "display_name": "Python 3 (ipykernel)",
   "language": "python",
   "name": "python3"
  },
  "language_info": {
   "codemirror_mode": {
    "name": "ipython",
    "version": 3
   },
   "file_extension": ".py",
   "mimetype": "text/x-python",
   "name": "python",
   "nbconvert_exporter": "python",
   "pygments_lexer": "ipython3",
   "version": "3.9.7"
  }
 },
 "nbformat": 4,
 "nbformat_minor": 5
}
